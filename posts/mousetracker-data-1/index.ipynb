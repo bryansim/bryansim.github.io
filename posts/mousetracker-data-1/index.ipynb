{
 "cells": [
  {
   "cell_type": "markdown",
   "metadata": {},
   "source": [
    "# Overview\n",
    "\n",
    "I'm going to be looking at some pilot data that some colleagues and I collected using Jon Freeman's Mousetracker (http://www.mousetracker.org/). As the name suggests, mousetracker is a program designed to track participants' mouse movements. In social psychology, researchers use it to track participants' implicit decision making processes. Originally, it was developed to study how individuals categorize faces. An example of the paradigm would be a participant having to choose whether a face is male or female, like so: ![mousetracker image here](http://static1.squarespace.com/static/54612594e4b09fab6f870891/546efb6ae4b0923225b792c7/546efb6ce4b0a19016ccac11/1416559468408/p.jpg?format=2500w)\n",
    "\n",
    "The researcher could then vary the degree to which the face has stereotypically male features, or stereotypically female features, and track not just *what* participants are categorizing the faces as, but also, *how* they reach those decisions, by tracking the paths and time course of the mouse movements."
   ]
  },
  {
   "cell_type": "markdown",
   "metadata": {},
   "source": [
    "# Current project\n",
    "\n",
    "Anyway, some friends and I are currently working on distinguishing how individuals allocate resources in the context of a relationship. We hypothesize that at any given time, individuals are concerned with:\n",
    "\n",
    "1. their self-interest\n",
    "2. their partner's interests\n",
    "3. the interest of the *group* or dyad, or the relationship, or them as a pair\n",
    "\n",
    "and these motives affect the way individuals choose to distribute resources. To distinguish between these three motives, we generated three sets of stimuli using poker chips that pit each of these motives against each other.\n",
    "\n",
    "The first set of stimuli pit participants' self-interest against the interests of their partner. For example, if red poker chips were paid out to you and green to your partner, one dilemma would be choosing between these two stacks of poker chips of equal height (i.e., the group receives the same in both cases):\n",
    "\n",
    " Left | Right |\n",
    ":------:|:---:|\n",
    "![so1](https://raw.githubusercontent.com/bryansim/Python/master/mousetrackerdata/so1.jpg) | ![so2](https://raw.githubusercontent.com/bryansim/Python/master/mousetrackerdata/so2.jpg)\n",
    "\n",
    "The second set of stimuli pits a participant's concern for the interest of their partner vs. their own self interest and the group's interest. This captures participants' \"pure\" altruistic motives in the sense that choosing to favor their partner in this scenario sacrifices both their own interests and the group's interest:\n",
    "\n",
    " Left | Right |\n",
    " :--:|:---:|\n",
    " ![smgm1](https://raw.githubusercontent.com/bryansim/Python/master/mousetrackerdata/smgm1.jpg) | ![smgm2](https://raw.githubusercontent.com/bryansim/Python/master/mousetrackerdata/smgm2.jpg)\n",
    " \n",
    " Finally, the last set of stimuli pit participants' self-interest against that of their partner and the group. In this case, one set of poker chips results in the participant getting more than the other set of chips, but in the other set of poker chips, his/her partner gets more *and* so does the pair of them:\n",
    " \n",
    " Left | Right |\n",
    " :--:|:---:|\n",
    " ![slgm1](https://raw.githubusercontent.com/bryansim/Python/master/mousetrackerdata/slgm1.jpg) | ![slgm2](https://raw.githubusercontent.com/bryansim/Python/master/mousetrackerdata/slgm2.jpg) "
   ]
  },
  {
   "cell_type": "markdown",
   "metadata": {},
   "source": [
    "# The data\n",
    "\n",
    "The data come in a person-period dataset. This is a \"long\" format where each participant has multiple rows that represent each trial of the experiment (there were 60 or so trials). However, each row also contains multiple columns each representing a bin of average locations the participant's mouse pointer was during that time span. There are ~100 such bins. \n",
    "\n",
    "In other words, each participant made 60 choices, and their mouse positions were averaged into ~100 time points per trial.\n",
    "\n",
    "The first thing we're going to do is to load our data. To do this, we first import Pandas, read our .csv file and print a list of columns. The raw data can be found here: https://raw.githubusercontent.com/bryansim/Python/master/mousetrackerdata/mousetrackercorrected.csv"
   ]
  },
  {
   "cell_type": "code",
   "execution_count": 1,
   "metadata": {
    "collapsed": false
   },
   "outputs": [],
   "source": [
    "import pandas as pd\n",
    "import re"
   ]
  },
  {
   "cell_type": "code",
   "execution_count": 2,
   "metadata": {
    "collapsed": false
   },
   "outputs": [
    {
     "data": {
      "text/plain": [
       "array(['subject', 'trial', 'stimfile', 'condition', 'code', 'resp_1',\n",
       "       'resp_2', 'response', 'distractor', 'error', 'init time', 'RT',\n",
       "       'MD_1', 'MD_2', 'AUC_1', 'AUC_2', 'MD_time', 'x-flip', 'y-flip',\n",
       "       'z-MD-separate', 'z-MD-together', 'z-AUC-separate',\n",
       "       'z-AUC-together', 'comments', 'X_1', 'X_2', 'X_3', 'X_4', 'X_5',\n",
       "       'X_6', 'X_7', 'X_8', 'X_9', 'X_10', 'X_11', 'X_12', 'X_13', 'X_14',\n",
       "       'X_15', 'X_16', 'X_17', 'X_18', 'X_19', 'X_20', 'X_21', 'X_22',\n",
       "       'X_23', 'X_24', 'X_25', 'X_26', 'X_27', 'X_28', 'X_29', 'X_30',\n",
       "       'X_31', 'X_32', 'X_33', 'X_34', 'X_35', 'X_36', 'X_37', 'X_38',\n",
       "       'X_39', 'X_40', 'X_41', 'X_42', 'X_43', 'X_44', 'X_45', 'X_46',\n",
       "       'X_47', 'X_48', 'X_49', 'X_50', 'X_51', 'X_52', 'X_53', 'X_54',\n",
       "       'X_55', 'X_56', 'X_57', 'X_58', 'X_59', 'X_60', 'X_61', 'X_62',\n",
       "       'X_63', 'X_64', 'X_65', 'X_66', 'X_67', 'X_68', 'X_69', 'X_70',\n",
       "       'X_71', 'X_72', 'X_73', 'X_74', 'X_75', 'X_76', 'X_77', 'X_78',\n",
       "       'X_79', 'X_80', 'X_81', 'X_82', 'X_83', 'X_84', 'X_85', 'X_86',\n",
       "       'X_87', 'X_88', 'X_89', 'X_90', 'X_91', 'X_92', 'X_93', 'X_94',\n",
       "       'X_95', 'X_96', 'X_97', 'X_98', 'X_99', 'X_100', 'X_101', 'Y_1',\n",
       "       'Y_2', 'Y_3', 'Y_4', 'Y_5', 'Y_6', 'Y_7', 'Y_8', 'Y_9', 'Y_10',\n",
       "       'Y_11', 'Y_12', 'Y_13', 'Y_14', 'Y_15', 'Y_16', 'Y_17', 'Y_18',\n",
       "       'Y_19', 'Y_20', 'Y_21', 'Y_22', 'Y_23', 'Y_24', 'Y_25', 'Y_26',\n",
       "       'Y_27', 'Y_28', 'Y_29', 'Y_30', 'Y_31', 'Y_32', 'Y_33', 'Y_34',\n",
       "       'Y_35', 'Y_36', 'Y_37', 'Y_38', 'Y_39', 'Y_40', 'Y_41', 'Y_42',\n",
       "       'Y_43', 'Y_44', 'Y_45', 'Y_46', 'Y_47', 'Y_48', 'Y_49', 'Y_50',\n",
       "       'Y_51', 'Y_52', 'Y_53', 'Y_54', 'Y_55', 'Y_56', 'Y_57', 'Y_58',\n",
       "       'Y_59', 'Y_60', 'Y_61', 'Y_62', 'Y_63', 'Y_64', 'Y_65', 'Y_66',\n",
       "       'Y_67', 'Y_68', 'Y_69', 'Y_70', 'Y_71', 'Y_72', 'Y_73', 'Y_74',\n",
       "       'Y_75', 'Y_76', 'Y_77', 'Y_78', 'Y_79', 'Y_80', 'Y_81', 'Y_82',\n",
       "       'Y_83', 'Y_84', 'Y_85', 'Y_86', 'Y_87', 'Y_88', 'Y_89', 'Y_90',\n",
       "       'Y_91', 'Y_92', 'Y_93', 'Y_94', 'Y_95', 'Y_96', 'Y_97', 'Y_98',\n",
       "       'Y_99', 'Y_100', 'Y_101'], dtype=object)"
      ]
     },
     "execution_count": 2,
     "metadata": {},
     "output_type": "execute_result"
    }
   ],
   "source": [
    "data = pd.read_csv(\"mousetrackercorrected.csv\")\n",
    "data.columns.values"
   ]
  },
  {
   "cell_type": "code",
   "execution_count": 3,
   "metadata": {
    "collapsed": false
   },
   "outputs": [
    {
     "data": {
      "text/html": [
       "<div>\n",
       "<table border=\"1\" class=\"dataframe\">\n",
       "  <thead>\n",
       "    <tr style=\"text-align: right;\">\n",
       "      <th></th>\n",
       "      <th>subject</th>\n",
       "      <th>trial</th>\n",
       "      <th>stimfile</th>\n",
       "      <th>condition</th>\n",
       "      <th>code</th>\n",
       "      <th>resp_1</th>\n",
       "      <th>resp_2</th>\n",
       "      <th>response</th>\n",
       "      <th>distractor</th>\n",
       "      <th>error</th>\n",
       "      <th>init time</th>\n",
       "      <th>RT</th>\n",
       "      <th>MD_1</th>\n",
       "      <th>MD_2</th>\n",
       "      <th>AUC_1</th>\n",
       "      <th>AUC_2</th>\n",
       "      <th>MD_time</th>\n",
       "      <th>x-flip</th>\n",
       "      <th>y-flip</th>\n",
       "    </tr>\n",
       "  </thead>\n",
       "  <tbody>\n",
       "    <tr>\n",
       "      <th>0</th>\n",
       "      <td>455806</td>\n",
       "      <td>1</td>\n",
       "      <td>NaN</td>\n",
       "      <td>777</td>\n",
       "      <td>prac2</td>\n",
       "      <td>~S3_O6.jpg</td>\n",
       "      <td>~S7_O8.jpg</td>\n",
       "      <td>1</td>\n",
       "      <td>1</td>\n",
       "      <td>1</td>\n",
       "      <td>256</td>\n",
       "      <td>1197</td>\n",
       "      <td>NaN</td>\n",
       "      <td>0.0922</td>\n",
       "      <td>NaN</td>\n",
       "      <td>0.0755</td>\n",
       "      <td>317</td>\n",
       "      <td>8</td>\n",
       "      <td>0</td>\n",
       "    </tr>\n",
       "    <tr>\n",
       "      <th>1</th>\n",
       "      <td>455806</td>\n",
       "      <td>3</td>\n",
       "      <td>NaN</td>\n",
       "      <td>777</td>\n",
       "      <td>prac8</td>\n",
       "      <td>~S5_O4.jpg</td>\n",
       "      <td>~S10_O11.jpg</td>\n",
       "      <td>1</td>\n",
       "      <td>1</td>\n",
       "      <td>1</td>\n",
       "      <td>180</td>\n",
       "      <td>1238</td>\n",
       "      <td>NaN</td>\n",
       "      <td>0.0213</td>\n",
       "      <td>NaN</td>\n",
       "      <td>0.0030</td>\n",
       "      <td>268</td>\n",
       "      <td>4</td>\n",
       "      <td>0</td>\n",
       "    </tr>\n",
       "    <tr>\n",
       "      <th>2</th>\n",
       "      <td>455806</td>\n",
       "      <td>5</td>\n",
       "      <td>NaN</td>\n",
       "      <td>777</td>\n",
       "      <td>prac4</td>\n",
       "      <td>~S5_O4.jpg</td>\n",
       "      <td>~S8_O9.jpg</td>\n",
       "      <td>1</td>\n",
       "      <td>2</td>\n",
       "      <td>0</td>\n",
       "      <td>151</td>\n",
       "      <td>858</td>\n",
       "      <td>NaN</td>\n",
       "      <td>-0.0386</td>\n",
       "      <td>NaN</td>\n",
       "      <td>-0.0139</td>\n",
       "      <td>0</td>\n",
       "      <td>4</td>\n",
       "      <td>0</td>\n",
       "    </tr>\n",
       "    <tr>\n",
       "      <th>3</th>\n",
       "      <td>455806</td>\n",
       "      <td>7</td>\n",
       "      <td>NaN</td>\n",
       "      <td>777</td>\n",
       "      <td>prac5</td>\n",
       "      <td>~S10_O9.jpg</td>\n",
       "      <td>~S7_O8.jpg</td>\n",
       "      <td>1</td>\n",
       "      <td>1</td>\n",
       "      <td>1</td>\n",
       "      <td>151</td>\n",
       "      <td>1104</td>\n",
       "      <td>NaN</td>\n",
       "      <td>0.8836</td>\n",
       "      <td>NaN</td>\n",
       "      <td>1.3726</td>\n",
       "      <td>293</td>\n",
       "      <td>6</td>\n",
       "      <td>0</td>\n",
       "    </tr>\n",
       "  </tbody>\n",
       "</table>\n",
       "</div>"
      ],
      "text/plain": [
       "   subject  trial stimfile  condition   code       resp_1        resp_2  \\\n",
       "0   455806      1      NaN        777  prac2   ~S3_O6.jpg    ~S7_O8.jpg   \n",
       "1   455806      3      NaN        777  prac8   ~S5_O4.jpg  ~S10_O11.jpg   \n",
       "2   455806      5      NaN        777  prac4   ~S5_O4.jpg    ~S8_O9.jpg   \n",
       "3   455806      7      NaN        777  prac5  ~S10_O9.jpg    ~S7_O8.jpg   \n",
       "\n",
       "   response  distractor  error  init time    RT  MD_1    MD_2  AUC_1   AUC_2  \\\n",
       "0         1           1      1        256  1197   NaN  0.0922    NaN  0.0755   \n",
       "1         1           1      1        180  1238   NaN  0.0213    NaN  0.0030   \n",
       "2         1           2      0        151   858   NaN -0.0386    NaN -0.0139   \n",
       "3         1           1      1        151  1104   NaN  0.8836    NaN  1.3726   \n",
       "\n",
       "   MD_time  x-flip  y-flip  \n",
       "0      317       8       0  \n",
       "1      268       4       0  \n",
       "2        0       4       0  \n",
       "3      293       6       0  "
      ]
     },
     "execution_count": 3,
     "metadata": {},
     "output_type": "execute_result"
    }
   ],
   "source": [
    "data.iloc[0:4, 0:19]"
   ]
  },
  {
   "cell_type": "markdown",
   "metadata": {},
   "source": [
    "## Descriptives\n",
    "\n",
    "In the above data, what we're going to be first doing is finding the mean of participants' reaction time (RT), maximum deviation (MD), and aure under curve (AUC). The latter two measures are measures of how much participants were \"attracted\" to the other option despite selecting the option that they did.\n",
    "\n",
    "There are two columns for each (e.g., MD_1 and MD_2 depending on which option participants chose). These end up being redundant with one another, and we'll have to combine them.\n",
    "\n",
    "x-flips and y-flips, as their names suggest, measure the number of times participants' cursors flipped on the x and y axis."
   ]
  },
  {
   "cell_type": "markdown",
   "metadata": {},
   "source": [
    "To combine the two MD columns, we create a new column, find all the rows which have data in MD_1, and then fill in the rows which *don't* have data in MD_1 with the rows that have data in MD_2. We do the same with AUC."
   ]
  },
  {
   "cell_type": "code",
   "execution_count": 4,
   "metadata": {
    "collapsed": false
   },
   "outputs": [],
   "source": [
    "data['MD'] = data.loc[data['MD_1'].isnull() == False, ['MD_1']]\n",
    "data.loc[data['MD'].isnull() == True,['MD']] = data.loc[data['MD_2'].isnull() == False]['MD_2'] \n",
    "#We do this to get a slice instead of data.loc[data['MD_2'].isnull() == False, ['MD_2']] which returns a dataframe"
   ]
  },
  {
   "cell_type": "code",
   "execution_count": 5,
   "metadata": {
    "collapsed": false
   },
   "outputs": [],
   "source": [
    "data['AUC'] = data.loc[data['AUC_1'].isnull() == False, ['AUC_1']]\n",
    "data.loc[data['AUC'].isnull() == True, ['AUC']] = data.loc[data['AUC_2'].isnull() == False]['AUC_2']"
   ]
  },
  {
   "cell_type": "markdown",
   "metadata": {},
   "source": [
    "### Mean MD and AUC\n",
    "\n",
    "Now, we can use the .mean() method to get the mean of the above."
   ]
  },
  {
   "cell_type": "code",
   "execution_count": 6,
   "metadata": {
    "collapsed": false
   },
   "outputs": [
    {
     "data": {
      "text/plain": [
       "0.4573244198895028"
      ]
     },
     "execution_count": 6,
     "metadata": {},
     "output_type": "execute_result"
    }
   ],
   "source": [
    "data['AUC'].mean()"
   ]
  },
  {
   "cell_type": "code",
   "execution_count": 7,
   "metadata": {
    "collapsed": false
   },
   "outputs": [
    {
     "data": {
      "text/plain": [
       "0.26286099447513805"
      ]
     },
     "execution_count": 7,
     "metadata": {},
     "output_type": "execute_result"
    }
   ],
   "source": [
    "data['MD'].mean()"
   ]
  },
  {
   "cell_type": "markdown",
   "metadata": {},
   "source": [
    "### Means by choice type\n",
    "\n",
    "The next thing we want to do is see whether participants differed depending on what the type of choice was (e.g., self vs. other etc.) Eventually, we will have a 3x2 table of means:\n",
    "\n",
    " self vs. other | group more w/ self less | group more w/ self more |\n",
    "---:|:---:|:---:\n",
    "chose selfish | chose selfish | chose selfish \n",
    "chose selfless | chose selfless | chose selffless \n",
    "\n",
    "Because of the way the conditions were coded (they include trial numbers), we'll use some regex to ignore those numbers:"
   ]
  },
  {
   "cell_type": "code",
   "execution_count": 8,
   "metadata": {
    "collapsed": false
   },
   "outputs": [],
   "source": [
    "sodata = data.loc[data['code'].str.extract(r'(so)', expand = False).isnull() == False]\n",
    "smgldata = data.loc[data['code'].str.extract(r'(smgl)', expand = False).isnull() == False]\n",
    "smgmdata = data.loc[data['code'].str.extract(r'(smgm)', expand = False).isnull() == False]"
   ]
  },
  {
   "cell_type": "code",
   "execution_count": 9,
   "metadata": {
    "collapsed": false
   },
   "outputs": [
    {
     "name": "stdout",
     "output_type": "stream",
     "text": [
      "0.287940806045\n",
      "0.240009049774\n",
      "0.241194845361\n"
     ]
    }
   ],
   "source": [
    "print sodata['MD'].mean()\n",
    "print smgldata['MD'].mean()\n",
    "print smgmdata['MD'].mean()"
   ]
  },
  {
   "cell_type": "code",
   "execution_count": 10,
   "metadata": {
    "collapsed": false
   },
   "outputs": [
    {
     "name": "stdout",
     "output_type": "stream",
     "text": [
      "0.487281360202\n",
      "0.4192239819\n",
      "0.451306185567\n"
     ]
    }
   ],
   "source": [
    "print sodata['AUC'].mean()\n",
    "print smgldata['AUC'].mean()\n",
    "print smgmdata['AUC'].mean()"
   ]
  },
  {
   "cell_type": "markdown",
   "metadata": {},
   "source": [
    "AS IT TURNS OUT, this isn't very helpful, because this analysis collapses over whether or not participant chose the selfish or unselfish option, which is really what we're interested in. So let's look at that next:"
   ]
  },
  {
   "cell_type": "code",
   "execution_count": 11,
   "metadata": {
    "collapsed": false
   },
   "outputs": [
    {
     "name": "stdout",
     "output_type": "stream",
     "text": [
      "0.283236649215\n",
      "0.292302427184\n",
      "0.225892405063\n",
      "0.247862676056\n",
      "0.181802877698\n",
      "0.391294545455\n"
     ]
    }
   ],
   "source": [
    "print sodata.loc[sodata['error'] == 0]['MD'].mean()\n",
    "print sodata.loc[sodata['error'] == 1]['MD'].mean()\n",
    "print smgldata.loc[smgldata['error'] == 0]['MD'].mean()\n",
    "print smgldata.loc[smgldata['error'] == 1]['MD'].mean()\n",
    "print smgmdata.loc[smgmdata['error'] == 0]['MD'].mean()\n",
    "print smgmdata.loc[smgmdata['error'] == 1]['MD'].mean()"
   ]
  },
  {
   "cell_type": "code",
   "execution_count": 12,
   "metadata": {
    "collapsed": false
   },
   "outputs": [
    {
     "name": "stdout",
     "output_type": "stream",
     "text": [
      "0.511068062827\n",
      "0.465226699029\n",
      "0.499286075949\n",
      "0.374682394366\n",
      "0.314955395683\n",
      "0.795901818182\n"
     ]
    }
   ],
   "source": [
    "print sodata.loc[sodata['error'] == 0]['AUC'].mean()\n",
    "print sodata.loc[sodata['error'] == 1]['AUC'].mean()\n",
    "print smgldata.loc[smgldata['error'] == 0]['AUC'].mean()\n",
    "print smgldata.loc[smgldata['error'] == 1]['AUC'].mean()\n",
    "print smgmdata.loc[smgmdata['error'] == 0]['AUC'].mean()\n",
    "print smgmdata.loc[smgmdata['error'] == 1]['AUC'].mean()"
   ]
  },
  {
   "cell_type": "markdown",
   "metadata": {},
   "source": [
    "So, that table above looks like this:\n",
    "\n",
    "\n",
    "MD | self vs. other | group more w/ self less | group more w/ self more |\n",
    "---:|:---:|:---:|:---:\n",
    "chose selfish | .28 | .23 | .18\n",
    "chose selfless | .29 | .25 | .39\n",
    "\n",
    "\n",
    "MD | self vs. other | group more w/ self less | group more w/ self more |\n",
    "---:|:---:|:---:|:---:\n",
    "chose selfish | .51 | .50 | .31\n",
    "chose selfless | .46 | .37 | .80\n",
    "\n",
    "Note to self: I need to check if I have the selfish vs. selfless options coded correctly. I believe error == 0 = selfish."
   ]
  }
 ],
 "metadata": {
  "kernelspec": {
   "display_name": "Python 2",
   "language": "python",
   "name": "python2"
  },
  "language_info": {
   "codemirror_mode": {
    "name": "ipython",
    "version": 2
   },
   "file_extension": ".py",
   "mimetype": "text/x-python",
   "name": "python",
   "nbconvert_exporter": "python",
   "pygments_lexer": "ipython2",
   "version": "2.7.11"
  },
  "nikola": {
   "category": "",
   "date": "2016-05-02 15:24:22 UTC-04:00",
   "description": "",
   "link": "",
   "slug": "mousetracker-data-1",
   "tags": "",
   "title": "Mousetracker Data #1",
   "type": "text"
  }
 },
 "nbformat": 4,
 "nbformat_minor": 0
}
