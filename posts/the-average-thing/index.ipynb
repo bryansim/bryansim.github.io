{
 "cells": [
  {
   "cell_type": "markdown",
   "metadata": {},
   "source": [
    "# The Average Thing\n",
    "\n",
    "The Canada Science and Technology Museums Corporation hosts a repository of all the artifacts in its collection here: (http://techno-science.ca/en/data.php). Let's do something interesting with it."
   ]
  },
  {
   "cell_type": "markdown",
   "metadata": {},
   "source": [
    "## Reading and cleaning data\n",
    "\n",
    "The data come in either a .csv or .xml format. Let's first try reading the .csv file, because Pandas has native support for that. First, we import all the packages that we might need (e.g., regex), and tell Pandas not to truncate the columns like it usually does."
   ]
  },
  {
   "cell_type": "code",
   "execution_count": 6,
   "metadata": {
    "collapsed": true
   },
   "outputs": [],
   "source": [
    "import pandas as pd\n",
    "import re\n",
    "import csv\n",
    "import itertools\n",
    "pd.get_option(\"display.max_columns\")\n",
    "pd.set_option(\"display.max_columns\", 40)"
   ]
  },
  {
   "cell_type": "markdown",
   "metadata": {},
   "source": [
    "Now, we import the data to a datafram named \"data\", using Pandas' built-in method .read_csv, specifying the delimiter \"|\", and telling it not to break when it comes across a bad line, but instead show a bunch of warnings and still continue."
   ]
  },
  {
   "cell_type": "code",
   "execution_count": 9,
   "metadata": {
    "collapsed": false,
    "scrolled": true
   },
   "outputs": [],
   "source": [
    "data = pd.read_csv(\"cstmc-CSV-en.csv\", delimiter = \"|\", error_bad_lines=False, warn_bad_lines=False)"
   ]
  },
  {
   "cell_type": "markdown",
   "metadata": {},
   "source": [
    "If you turn the warnings on, it looks like some of the rows of the csv file have extra columns (i.e., they have 37 columns when we only have 36 column names. Because there are multiple missing values, it's not possible to determine what the extra columns represent. Just by eyeballing things, it looks like about ~500 of the 100,000 cases are problematic.\n",
    "\n",
    "Our two options are to either ignore these cases, or try and read the xml file, which may or may not pay off. My recommendation is that we just move forward and try and get some initial analysis done before backtracking later if we want to."
   ]
  },
  {
   "cell_type": "markdown",
   "metadata": {},
   "source": [
    "Here are the first 3 artifacts in the data:"
   ]
  },
  {
   "cell_type": "code",
   "execution_count": 15,
   "metadata": {
    "collapsed": false
   },
   "outputs": [
    {
     "data": {
      "text/html": [
       "<div>\n",
       "<table border=\"1\" class=\"dataframe\">\n",
       "  <thead>\n",
       "    <tr style=\"text-align: right;\">\n",
       "      <th></th>\n",
       "      <th>artifactNumber</th>\n",
       "      <th>ObjectName</th>\n",
       "      <th>GeneralDescription</th>\n",
       "      <th>model</th>\n",
       "      <th>SerialNumber</th>\n",
       "      <th>Manufacturer</th>\n",
       "      <th>ManuCountry</th>\n",
       "      <th>ManuProvince</th>\n",
       "      <th>ManuCity</th>\n",
       "      <th>BeginDate</th>\n",
       "      <th>EndDate</th>\n",
       "      <th>date_qualifier</th>\n",
       "      <th>patent</th>\n",
       "      <th>NumberOfComponents</th>\n",
       "      <th>ArtifactFinish</th>\n",
       "      <th>ContextCanada</th>\n",
       "      <th>ContextFunction</th>\n",
       "      <th>ContextTechnical</th>\n",
       "      <th>group1</th>\n",
       "      <th>category1</th>\n",
       "      <th>subcategory1</th>\n",
       "      <th>group2</th>\n",
       "      <th>category2</th>\n",
       "      <th>subcategory2</th>\n",
       "      <th>group3</th>\n",
       "      <th>category3</th>\n",
       "      <th>subcategory3</th>\n",
       "      <th>material</th>\n",
       "      <th>Length</th>\n",
       "      <th>Width</th>\n",
       "      <th>Height</th>\n",
       "      <th>Thickness</th>\n",
       "      <th>Weight</th>\n",
       "      <th>Diameter</th>\n",
       "      <th>image</th>\n",
       "      <th>thumbnail</th>\n",
       "    </tr>\n",
       "  </thead>\n",
       "  <tbody>\n",
       "    <tr>\n",
       "      <th>0</th>\n",
       "      <td>1966.0001.001</td>\n",
       "      <td>Cover</td>\n",
       "      <td>PAPER</td>\n",
       "      <td>WESTERN CANADA AIRWAYS LTD.</td>\n",
       "      <td>NaN</td>\n",
       "      <td>Unknown</td>\n",
       "      <td>Unknown</td>\n",
       "      <td>NaN</td>\n",
       "      <td>NaN</td>\n",
       "      <td>1927</td>\n",
       "      <td>NaN</td>\n",
       "      <td>NaN</td>\n",
       "      <td>NaN</td>\n",
       "      <td>1.0</td>\n",
       "      <td>NaN</td>\n",
       "      <td>AT THE TIME IT WAS THE WORLD'S MOST NORTHERNLY...</td>\n",
       "      <td>NaN</td>\n",
       "      <td>NaN</td>\n",
       "      <td>Aviation</td>\n",
       "      <td>Commemorative</td>\n",
       "      <td>Stamps &amp; coins</td>\n",
       "      <td>NaN</td>\n",
       "      <td>NaN</td>\n",
       "      <td>NaN</td>\n",
       "      <td>NaN</td>\n",
       "      <td>NaN</td>\n",
       "      <td>NaN</td>\n",
       "      <td>paper</td>\n",
       "      <td>4.5 cm</td>\n",
       "      <td>2.6 cm</td>\n",
       "      <td>NaN</td>\n",
       "      <td>NaN</td>\n",
       "      <td>NaN</td>\n",
       "      <td>NaN</td>\n",
       "      <td>http://source.techno-science.ca/artifacts-arte...</td>\n",
       "      <td>http://source.techno-science.ca/artifacts-arte...</td>\n",
       "    </tr>\n",
       "    <tr>\n",
       "      <th>1</th>\n",
       "      <td>1966.0002.001</td>\n",
       "      <td>Stamp, postage</td>\n",
       "      <td>PAPER</td>\n",
       "      <td>WESTERN CANADA AIRWAYS LTD.</td>\n",
       "      <td>NaN</td>\n",
       "      <td>Unknown</td>\n",
       "      <td>Unknown</td>\n",
       "      <td>NaN</td>\n",
       "      <td>NaN</td>\n",
       "      <td>1927</td>\n",
       "      <td>NaN</td>\n",
       "      <td>NaN</td>\n",
       "      <td>NaN</td>\n",
       "      <td>1.0</td>\n",
       "      <td>PINK &amp; BLACK ON WHITE</td>\n",
       "      <td>NaN</td>\n",
       "      <td>NaN</td>\n",
       "      <td>NaN</td>\n",
       "      <td>Aviation</td>\n",
       "      <td>Commemorative</td>\n",
       "      <td>Stamps &amp; coins</td>\n",
       "      <td>NaN</td>\n",
       "      <td>NaN</td>\n",
       "      <td>NaN</td>\n",
       "      <td>NaN</td>\n",
       "      <td>NaN</td>\n",
       "      <td>NaN</td>\n",
       "      <td>paper</td>\n",
       "      <td>3.8 cm</td>\n",
       "      <td>2.7 cm</td>\n",
       "      <td>NaN</td>\n",
       "      <td>NaN</td>\n",
       "      <td>NaN</td>\n",
       "      <td>NaN</td>\n",
       "      <td>http://source.techno-science.ca/artifacts-arte...</td>\n",
       "      <td>http://source.techno-science.ca/artifacts-arte...</td>\n",
       "    </tr>\n",
       "    <tr>\n",
       "      <th>2</th>\n",
       "      <td>1966.0003.001</td>\n",
       "      <td>Stamp, postage</td>\n",
       "      <td>PAPER</td>\n",
       "      <td>NaN</td>\n",
       "      <td>NaN</td>\n",
       "      <td>Unknown</td>\n",
       "      <td>Unknown</td>\n",
       "      <td>NaN</td>\n",
       "      <td>NaN</td>\n",
       "      <td>1932</td>\n",
       "      <td>NaN</td>\n",
       "      <td>NaN</td>\n",
       "      <td>NaN</td>\n",
       "      <td>1.0</td>\n",
       "      <td>DARK &amp; PALE BLUE ON WHITE</td>\n",
       "      <td>NaN</td>\n",
       "      <td>NaN</td>\n",
       "      <td>NaN</td>\n",
       "      <td>Aviation</td>\n",
       "      <td>Commemorative</td>\n",
       "      <td>Stamps &amp; coins</td>\n",
       "      <td>NaN</td>\n",
       "      <td>NaN</td>\n",
       "      <td>NaN</td>\n",
       "      <td>NaN</td>\n",
       "      <td>NaN</td>\n",
       "      <td>NaN</td>\n",
       "      <td>paper</td>\n",
       "      <td>12.8 cm</td>\n",
       "      <td>8.4 cm</td>\n",
       "      <td>NaN</td>\n",
       "      <td>NaN</td>\n",
       "      <td>NaN</td>\n",
       "      <td>NaN</td>\n",
       "      <td>http://source.techno-science.ca/artifacts-arte...</td>\n",
       "      <td>http://source.techno-science.ca/artifacts-arte...</td>\n",
       "    </tr>\n",
       "  </tbody>\n",
       "</table>\n",
       "</div>"
      ],
      "text/plain": [
       "  artifactNumber      ObjectName GeneralDescription  \\\n",
       "0  1966.0001.001           Cover              PAPER   \n",
       "1  1966.0002.001  Stamp, postage              PAPER   \n",
       "2  1966.0003.001  Stamp, postage              PAPER   \n",
       "\n",
       "                         model SerialNumber Manufacturer ManuCountry  \\\n",
       "0  WESTERN CANADA AIRWAYS LTD.          NaN      Unknown     Unknown   \n",
       "1  WESTERN CANADA AIRWAYS LTD.          NaN      Unknown     Unknown   \n",
       "2                          NaN          NaN      Unknown     Unknown   \n",
       "\n",
       "  ManuProvince ManuCity BeginDate EndDate date_qualifier patent  \\\n",
       "0          NaN      NaN      1927     NaN            NaN    NaN   \n",
       "1          NaN      NaN      1927     NaN            NaN    NaN   \n",
       "2          NaN      NaN      1932     NaN            NaN    NaN   \n",
       "\n",
       "   NumberOfComponents             ArtifactFinish  \\\n",
       "0                 1.0                        NaN   \n",
       "1                 1.0      PINK & BLACK ON WHITE   \n",
       "2                 1.0  DARK & PALE BLUE ON WHITE   \n",
       "\n",
       "                                       ContextCanada ContextFunction  \\\n",
       "0  AT THE TIME IT WAS THE WORLD'S MOST NORTHERNLY...             NaN   \n",
       "1                                                NaN             NaN   \n",
       "2                                                NaN             NaN   \n",
       "\n",
       "  ContextTechnical    group1      category1    subcategory1 group2 category2  \\\n",
       "0              NaN  Aviation  Commemorative  Stamps & coins    NaN       NaN   \n",
       "1              NaN  Aviation  Commemorative  Stamps & coins    NaN       NaN   \n",
       "2              NaN  Aviation  Commemorative  Stamps & coins    NaN       NaN   \n",
       "\n",
       "  subcategory2 group3 category3 subcategory3 material   Length   Width Height  \\\n",
       "0          NaN    NaN       NaN          NaN    paper   4.5 cm  2.6 cm    NaN   \n",
       "1          NaN    NaN       NaN          NaN    paper   3.8 cm  2.7 cm    NaN   \n",
       "2          NaN    NaN       NaN          NaN    paper  12.8 cm  8.4 cm    NaN   \n",
       "\n",
       "  Thickness Weight Diameter  \\\n",
       "0       NaN    NaN      NaN   \n",
       "1       NaN    NaN      NaN   \n",
       "2       NaN    NaN      NaN   \n",
       "\n",
       "                                               image  \\\n",
       "0  http://source.techno-science.ca/artifacts-arte...   \n",
       "1  http://source.techno-science.ca/artifacts-arte...   \n",
       "2  http://source.techno-science.ca/artifacts-arte...   \n",
       "\n",
       "                                           thumbnail  \n",
       "0  http://source.techno-science.ca/artifacts-arte...  \n",
       "1  http://source.techno-science.ca/artifacts-arte...  \n",
       "2  http://source.techno-science.ca/artifacts-arte...  "
      ]
     },
     "execution_count": 15,
     "metadata": {},
     "output_type": "execute_result"
    }
   ],
   "source": [
    "data.head(n = 3)"
   ]
  },
  {
   "cell_type": "markdown",
   "metadata": {},
   "source": [
    "And here are some cases which have too many columns:"
   ]
  },
  {
   "cell_type": "code",
   "execution_count": 9,
   "metadata": {
    "collapsed": false
   },
   "outputs": [
    {
     "data": {
      "text/html": [
       "<div>\n",
       "<table border=\"1\" class=\"dataframe\">\n",
       "  <thead>\n",
       "    <tr style=\"text-align: right;\">\n",
       "      <th></th>\n",
       "      <th>0</th>\n",
       "      <th>1</th>\n",
       "      <th>2</th>\n",
       "      <th>3</th>\n",
       "      <th>4</th>\n",
       "      <th>5</th>\n",
       "      <th>6</th>\n",
       "      <th>7</th>\n",
       "      <th>8</th>\n",
       "      <th>9</th>\n",
       "      <th>10</th>\n",
       "      <th>11</th>\n",
       "      <th>12</th>\n",
       "      <th>13</th>\n",
       "      <th>14</th>\n",
       "      <th>15</th>\n",
       "      <th>16</th>\n",
       "      <th>17</th>\n",
       "      <th>18</th>\n",
       "      <th>19</th>\n",
       "      <th>20</th>\n",
       "      <th>21</th>\n",
       "      <th>22</th>\n",
       "      <th>23</th>\n",
       "      <th>24</th>\n",
       "      <th>25</th>\n",
       "      <th>26</th>\n",
       "      <th>27</th>\n",
       "      <th>28</th>\n",
       "      <th>29</th>\n",
       "      <th>30</th>\n",
       "      <th>31</th>\n",
       "      <th>32</th>\n",
       "      <th>33</th>\n",
       "      <th>34</th>\n",
       "      <th>35</th>\n",
       "      <th>36</th>\n",
       "    </tr>\n",
       "  </thead>\n",
       "  <tbody>\n",
       "    <tr>\n",
       "      <th>0</th>\n",
       "      <td>1984.1214.001</td>\n",
       "      <td>Engine, airplane</td>\n",
       "      <td>NaN</td>\n",
       "      <td>LTC1K-4A/LYCOMING T53</td>\n",
       "      <td>LE09281X</td>\n",
       "      <td>Avco Lycoming Div.</td>\n",
       "      <td>United States of America</td>\n",
       "      <td>Connecticut</td>\n",
       "      <td>Stratford</td>\n",
       "      <td>1969</td>\n",
       "      <td>NaN</td>\n",
       "      <td>circa</td>\n",
       "      <td>NaN</td>\n",
       "      <td>1</td>\n",
       "      <td>NaN</td>\n",
       "      <td>NaN</td>\n",
       "      <td>Converts heat into mechanical power</td>\n",
       "      <td>NaN</td>\n",
       "      <td>Aviation</td>\n",
       "      <td>Motive power</td>\n",
       "      <td>NaN</td>\n",
       "      <td>NaN</td>\n",
       "      <td>NaN</td>\n",
       "      <td>NaN</td>\n",
       "      <td>NaN</td>\n",
       "      <td>NaN</td>\n",
       "      <td>NaN</td>\n",
       "      <td>NaN</td>\n",
       "      <td>NaN</td>\n",
       "      <td>NaN</td>\n",
       "      <td>NaN</td>\n",
       "      <td>NaN</td>\n",
       "      <td>NaN</td>\n",
       "      <td>NaN</td>\n",
       "      <td>NaN</td>\n",
       "      <td>NaN</td>\n",
       "      <td>http://source.techno-science.ca/artifacts-arte...</td>\n",
       "    </tr>\n",
       "    <tr>\n",
       "      <th>1</th>\n",
       "      <td>1984.1215.001</td>\n",
       "      <td>Engine, airplane</td>\n",
       "      <td>NaN</td>\n",
       "      <td>LTC1K-4A/LYCOMING T53</td>\n",
       "      <td>LE09285X</td>\n",
       "      <td>Avco Lycoming Div.</td>\n",
       "      <td>United States of America</td>\n",
       "      <td>Connecticut</td>\n",
       "      <td>Stratford</td>\n",
       "      <td>1969</td>\n",
       "      <td>NaN</td>\n",
       "      <td>circa</td>\n",
       "      <td>NaN</td>\n",
       "      <td>1</td>\n",
       "      <td>NaN</td>\n",
       "      <td>NaN</td>\n",
       "      <td>Converts heat into mechanical power</td>\n",
       "      <td>NaN</td>\n",
       "      <td>Aviation</td>\n",
       "      <td>Motive power</td>\n",
       "      <td>NaN</td>\n",
       "      <td>NaN</td>\n",
       "      <td>NaN</td>\n",
       "      <td>NaN</td>\n",
       "      <td>NaN</td>\n",
       "      <td>NaN</td>\n",
       "      <td>NaN</td>\n",
       "      <td>NaN</td>\n",
       "      <td>NaN</td>\n",
       "      <td>NaN</td>\n",
       "      <td>NaN</td>\n",
       "      <td>NaN</td>\n",
       "      <td>NaN</td>\n",
       "      <td>NaN</td>\n",
       "      <td>NaN</td>\n",
       "      <td>NaN</td>\n",
       "      <td>http://source.techno-science.ca/artifacts-arte...</td>\n",
       "    </tr>\n",
       "    <tr>\n",
       "      <th>2</th>\n",
       "      <td>1984.1216.001</td>\n",
       "      <td>Propeller</td>\n",
       "      <td>Glass - Fibre</td>\n",
       "      <td>HAMILTON STANDARD</td>\n",
       "      <td>337-339-330-325</td>\n",
       "      <td>Hamilton Standard Propeller Div., United Aircr...</td>\n",
       "      <td>United States of America</td>\n",
       "      <td>Connecticut</td>\n",
       "      <td>East hartford</td>\n",
       "      <td>1969</td>\n",
       "      <td>NaN</td>\n",
       "      <td>circa</td>\n",
       "      <td>NaN</td>\n",
       "      <td>1</td>\n",
       "      <td>NaN</td>\n",
       "      <td>NaN</td>\n",
       "      <td>Aircraft propeller</td>\n",
       "      <td>NaN</td>\n",
       "      <td>Aviation</td>\n",
       "      <td>Aircraft parts</td>\n",
       "      <td>NaN</td>\n",
       "      <td>NaN</td>\n",
       "      <td>NaN</td>\n",
       "      <td>NaN</td>\n",
       "      <td>NaN</td>\n",
       "      <td>NaN</td>\n",
       "      <td>NaN</td>\n",
       "      <td>glass;fibre</td>\n",
       "      <td>NaN</td>\n",
       "      <td>NaN</td>\n",
       "      <td>NaN</td>\n",
       "      <td>NaN</td>\n",
       "      <td>NaN</td>\n",
       "      <td>NaN</td>\n",
       "      <td>http://source.techno-science.ca/artifacts-arte...</td>\n",
       "      <td>http://source.techno-science.ca/artifacts-arte...</td>\n",
       "      <td>http://source.techno-science.ca/artifacts-arte...</td>\n",
       "    </tr>\n",
       "  </tbody>\n",
       "</table>\n",
       "</div>"
      ],
      "text/plain": [
       "              0                 1              2                      3   \\\n",
       "0  1984.1214.001  Engine, airplane            NaN  LTC1K-4A/LYCOMING T53   \n",
       "1  1984.1215.001  Engine, airplane            NaN  LTC1K-4A/LYCOMING T53   \n",
       "2  1984.1216.001         Propeller  Glass - Fibre      HAMILTON STANDARD   \n",
       "\n",
       "                4                                                  5   \\\n",
       "0         LE09281X                                 Avco Lycoming Div.   \n",
       "1         LE09285X                                 Avco Lycoming Div.   \n",
       "2  337-339-330-325  Hamilton Standard Propeller Div., United Aircr...   \n",
       "\n",
       "                         6            7              8     9   10     11  12  \\\n",
       "0  United States of America  Connecticut      Stratford  1969 NaN  circa NaN   \n",
       "1  United States of America  Connecticut      Stratford  1969 NaN  circa NaN   \n",
       "2  United States of America  Connecticut  East hartford  1969 NaN  circa NaN   \n",
       "\n",
       "   13  14  15                                   16  17        18  \\\n",
       "0   1 NaN NaN  Converts heat into mechanical power NaN  Aviation   \n",
       "1   1 NaN NaN  Converts heat into mechanical power NaN  Aviation   \n",
       "2   1 NaN NaN                   Aircraft propeller NaN  Aviation   \n",
       "\n",
       "               19  20  21  22  23  24  25  26           27  28  29  30  31  \\\n",
       "0    Motive power NaN NaN NaN NaN NaN NaN NaN          NaN NaN NaN NaN NaN   \n",
       "1    Motive power NaN NaN NaN NaN NaN NaN NaN          NaN NaN NaN NaN NaN   \n",
       "2  Aircraft parts NaN NaN NaN NaN NaN NaN NaN  glass;fibre NaN NaN NaN NaN   \n",
       "\n",
       "   32  33                                                 34  \\\n",
       "0 NaN NaN                                                NaN   \n",
       "1 NaN NaN                                                NaN   \n",
       "2 NaN NaN  http://source.techno-science.ca/artifacts-arte...   \n",
       "\n",
       "                                                  35  \\\n",
       "0                                                NaN   \n",
       "1                                                NaN   \n",
       "2  http://source.techno-science.ca/artifacts-arte...   \n",
       "\n",
       "                                                  36  \n",
       "0  http://source.techno-science.ca/artifacts-arte...  \n",
       "1  http://source.techno-science.ca/artifacts-arte...  \n",
       "2  http://source.techno-science.ca/artifacts-arte...  "
      ]
     },
     "execution_count": 9,
     "metadata": {},
     "output_type": "execute_result"
    }
   ],
   "source": [
    "debug = pd.read_csv(\"cstmc-CSV-en.csv\", header=None, delimiter = \"|\", error_bad_lines=False, skiprows = 37899, nrows=3)\n",
    "debug"
   ]
  },
  {
   "cell_type": "markdown",
   "metadata": {},
   "source": [
    "## Recoding dimensions into actual units\n",
    "\n",
    "The first thing we're going to do is to do convert all the dimensions, which have mixed units (e.g., 16cm and 10m or whatever) into one common unit. To do this, we're going to use regular expressions and loop through the dimension columns.\n",
    "\n",
    "The other thing that we might want to do is decide what artifacts to actually use. It looks like some of the artifacts are things like documents and paper, and others are really big things like engines."
   ]
  },
  {
   "cell_type": "markdown",
   "metadata": {},
   "source": [
    "### Dealing with missing data\n",
    "As you can see from the example cases above, lots of data is missing or unavailable, which is probably to be expected given that not all columns are necessarily relevant to each artifact. However, this forces us to make a decision when trying to summarize data: How do we decide whether to include or exclude artifacts?"
   ]
  },
  {
   "cell_type": "markdown",
   "metadata": {},
   "source": [
    "For example, the code below subsets data depending on whether or not any of the measurements of their physical dimensions (weight, height, etc.) are missing:"
   ]
  },
  {
   "cell_type": "code",
   "execution_count": 11,
   "metadata": {
    "collapsed": false
   },
   "outputs": [],
   "source": [
    "datasub1 = data.loc[data['Length'].isnull() == False]\n",
    "datasub2 = datasub1.loc[datasub1['Width'].isnull() == False]\n",
    "datasub3 = datasub2.loc[datasub2['Height'].isnull() == False]\n",
    "datasub4 = datasub3.loc[datasub3['Weight'].isnull() == False]"
   ]
  },
  {
   "cell_type": "markdown",
   "metadata": {},
   "source": [
    "Running the code below will list the problem cases with our regex - some have typos in them, others have European style decimal places (thanks Canada!)"
   ]
  },
  {
   "cell_type": "code",
   "execution_count": 19,
   "metadata": {
    "collapsed": false,
    "scrolled": false
   },
   "outputs": [
    {
     "name": "stdout",
     "output_type": "stream",
     "text": [
      "['610 cm', '12 cm', '210 cm', '254,9 cm', '12,7 cm', '12,7 cm', '71.0\\t cm', '81.0\\t cm', '61,5 cm', '61,5 cm', '61,5 cm', '61,5 cm', '42.3\\t cm', '59,5 cm', '58,0 cm', '176.O cm', '157,5 cm', '18,5 cm', '2,4 cm', '19,5 cm', '32,0 cm', ' cm', '21,0 cm', '30 cm', '58 cm', '5200 cm', '172,0 cm', '26.,0 cm', '26.,0 cm', '43,7 cm', '200,0 cm', '41,5 cm', '180,0 cm', '150 cm', '41,5 cm', '200 cm', '24 cm', '190 cm', '229 cm', '236 cm']\n"
     ]
    }
   ],
   "source": [
    "subdata = datasub3\n",
    "subdata = subdata.reset_index(drop = True)\n",
    "\n",
    "x = 0\n",
    "badlines = []\n",
    "for line in subdata['Length']:\n",
    "    try:\n",
    "        re.search(r'(\\d*\\.\\d*) .*', line).group(1)\n",
    "    except:\n",
    "        badlines.append(subdata.loc[x, ['Length']][0])\n",
    "    x +=1\n",
    "\n",
    "print badlines"
   ]
  },
  {
   "cell_type": "markdown",
   "metadata": {},
   "source": [
    "Let's first sub out the commas for decimal places and remove the '\\t' characters."
   ]
  },
  {
   "cell_type": "code",
   "execution_count": 32,
   "metadata": {
    "collapsed": true
   },
   "outputs": [],
   "source": [
    "subdata['Length'] = [re.sub(',', '.', x) for x in subdata['Length']]\n",
    "subdata['Length'] = [re.sub('\\t', '', x) for x in subdata['Length']]"
   ]
  },
  {
   "cell_type": "markdown",
   "metadata": {},
   "source": [
    "AS IT HAPPENS, you can achieve the above using Pandas' built-in string methods, because I am a moron. Below, we use these methods on the \"Length\" dimension to replace the commas, extract the digits, extract the units, and then replace the units with the numbers to multiply the digits by (i.e., cm = 1, m = 100)."
   ]
  },
  {
   "cell_type": "code",
   "execution_count": 33,
   "metadata": {
    "collapsed": false
   },
   "outputs": [],
   "source": [
    "artifactlengths = data['Length'].str.extract(r'(\\d*.\\d*)', expand=False)\n",
    "artifactlengths = artifactlengths.str.replace(',', '.')\n",
    "artifactlengthmultipliers = data['Length'].str.extract(r'.* ([a-zA-Z]*)', expand=False)"
   ]
  },
  {
   "cell_type": "markdown",
   "metadata": {},
   "source": [
    "Doing this, we've created a vector (i.e., a Pandas series) of floats, and a separate vector of strings that have the units. For the next step, we want to first replace cm and CM with 1, and m and M with 100, and look for the person who used inches and shoot them."
   ]
  },
  {
   "cell_type": "code",
   "execution_count": 34,
   "metadata": {
    "collapsed": false,
    "scrolled": true
   },
   "outputs": [
    {
     "data": {
      "text/plain": [
       "array(['cm', nan, 'M', 'in', 'CM', 'm'], dtype=object)"
      ]
     },
     "execution_count": 34,
     "metadata": {},
     "output_type": "execute_result"
    }
   ],
   "source": [
    "artifactlengthmultipliers.unique()"
   ]
  },
  {
   "cell_type": "markdown",
   "metadata": {},
   "source": [
    "We create a dictionary to use with the .replace method:"
   ]
  },
  {
   "cell_type": "code",
   "execution_count": 35,
   "metadata": {
    "collapsed": false
   },
   "outputs": [],
   "source": [
    "unitreplacement = {\n",
    "    \"cm\" : 1, \n",
    "    \"CM\" : 1,\n",
    "    \"m\" : 100,\n",
    "    \"M\" : 100,\n",
    "    \"in\" : 2.54,\n",
    "    \"kg\" : 1,\n",
    "    \"KG\" : 1,\n",
    "    \"gm\" : .001,\n",
    "    \"tons\" : 1000,\n",
    "    \"lbs\" : .453\n",
    "}\n",
    "artifactlengthmultipliersNUM = artifactlengthmultipliers.replace(unitreplacement)"
   ]
  },
  {
   "cell_type": "markdown",
   "metadata": {},
   "source": [
    "And then we multiple our numbers by our multipliers, and now we can use the data to find out the average length of all artifacts:"
   ]
  },
  {
   "cell_type": "code",
   "execution_count": 36,
   "metadata": {
    "collapsed": false
   },
   "outputs": [],
   "source": [
    "#We have to coerce because our series contains missing values that cannot be typed\n",
    "artifactlengthincm = pd.to_numeric(artifactlengths, errors = 'coerce') * artifactlengthmultipliersNUM"
   ]
  },
  {
   "cell_type": "code",
   "execution_count": 37,
   "metadata": {
    "collapsed": false
   },
   "outputs": [
    {
     "data": {
      "text/plain": [
       "44.711496657068245"
      ]
     },
     "execution_count": 37,
     "metadata": {},
     "output_type": "execute_result"
    }
   ],
   "source": [
    "artifactlengthincm.mean()"
   ]
  },
  {
   "cell_type": "markdown",
   "metadata": {},
   "source": [
    "### Functions to extract digits and units:\n",
    "\n",
    "Now that we've done this once with length, we can write some functions to do the above easily with the rest of the dimensions. We also have a function that will take a list of dimensions, and \"numberize\" all of them."
   ]
  },
  {
   "cell_type": "code",
   "execution_count": 38,
   "metadata": {
    "collapsed": true
   },
   "outputs": [],
   "source": [
    "#These are the above as functions to run on our other dimensions\n",
    "def extract_digits(series):\n",
    "    lengths = series.str.extract(r'(\\d*.\\d*)', expand = False)\n",
    "    lengths = lengths.str.replace(',' , '.')\n",
    "    return pd.to_numeric(lengths, errors = 'coerce')\n",
    "\n",
    "def extract_multipliers(series):\n",
    "    multipliers = series.str.extract(r'.* ([a-zA-Z]*)', expand = False)\n",
    "    unitreplacement = {\n",
    "    \"cm\" : 1, \n",
    "    \"CM\" : 1,\n",
    "    \"m\" : 100,\n",
    "    \"M\" : 100,\n",
    "    \"in\" : 2.54,\n",
    "    \"kg\" : 1,\n",
    "    \"KG\" : 1,\n",
    "    \"gm\" : .001,\n",
    "    \"tons\" : 1000,\n",
    "    \"lbs\" : .453\n",
    "    }\n",
    "    multipliers = multipliers.replace(unitreplacement)\n",
    "    return pd.to_numeric(multipliers, errors = 'coerce')\n",
    "\n",
    "def numberize_dimensions(listofdimensions, data):\n",
    "    for dimension in listofdimensions:\n",
    "        data[dimension + \"INT\"] = extract_digits(data[dimension])\n",
    "        data[dimension + \"MULT\"] = extract_multipliers(data[dimension])\n",
    "        data[dimension + \"NUM\"] = data[dimension + \"INT\"] + data[dimension + \"MULT\"]"
   ]
  },
  {
   "cell_type": "code",
   "execution_count": 126,
   "metadata": {
    "collapsed": false,
    "scrolled": false
   },
   "outputs": [],
   "source": [
    "#This was some hacky debugging when I manually did a binary search-type thing to find out which row numbers were messed up\n",
    "#pd.to_numeric(artifactlengths[96050:96100])\n",
    "#artifactlengths[96050:96100]"
   ]
  },
  {
   "cell_type": "markdown",
   "metadata": {},
   "source": [
    "### Rest of the dimensions\n",
    "\n",
    "From the above, the average length of all the artifacts in the collection is 44.7cm. Let's find out what the average is for all the other dimensions:"
   ]
  },
  {
   "cell_type": "code",
   "execution_count": 39,
   "metadata": {
    "collapsed": false
   },
   "outputs": [
    {
     "data": {
      "text/plain": [
       "25.884008993874833"
      ]
     },
     "execution_count": 39,
     "metadata": {},
     "output_type": "execute_result"
    }
   ],
   "source": [
    "data['HeightINT'] = extract_digits(data['Height'])\n",
    "data['HeightMULTI'] = extract_multipliers(data['Height'])\n",
    "data['HeightNUM'] = data['HeightINT'] * data['HeightMULTI']\n",
    "data['HeightNUM'].mean()"
   ]
  },
  {
   "cell_type": "markdown",
   "metadata": {},
   "source": [
    "The average height is 25.88cm"
   ]
  },
  {
   "cell_type": "code",
   "execution_count": 40,
   "metadata": {
    "collapsed": false
   },
   "outputs": [
    {
     "data": {
      "text/plain": [
       "24.15538627441159"
      ]
     },
     "execution_count": 40,
     "metadata": {},
     "output_type": "execute_result"
    }
   ],
   "source": [
    "data['WidthINT'] = extract_digits(data['Width'])\n",
    "data['WidthMULTI'] = extract_multipliers(data['Width'])\n",
    "data['WidthNUM'] = data['WidthINT'] * data['WidthMULTI']\n",
    "data['WidthNUM'].mean()"
   ]
  },
  {
   "cell_type": "markdown",
   "metadata": {},
   "source": [
    "The average width is 24.16 cm."
   ]
  },
  {
   "cell_type": "markdown",
   "metadata": {},
   "source": [
    "Now, we work on weight. Given that the units for weights range from gm to tons, let's go with kg as the unit we'll use, and assume that tons refer to metric tons. There's also a 'cm' there. Something is wrong."
   ]
  },
  {
   "cell_type": "code",
   "execution_count": 42,
   "metadata": {
    "collapsed": false
   },
   "outputs": [
    {
     "data": {
      "text/plain": [
       "array([nan, 'kg', 'cm', 'tons', 'gm', 'lb'], dtype=object)"
      ]
     },
     "execution_count": 42,
     "metadata": {},
     "output_type": "execute_result"
    }
   ],
   "source": [
    "data['Weight'].str.extract('.* (.*)', expand = False).unique()"
   ]
  },
  {
   "cell_type": "markdown",
   "metadata": {},
   "source": [
    "Below, we extract the indices of cases with \"cm\" in the weight. There are 13 cases, and some of them look like a misalignment of the columns, but it's impossible to tell which way they are misaligned."
   ]
  },
  {
   "cell_type": "code",
   "execution_count": 20,
   "metadata": {
    "collapsed": false,
    "scrolled": true
   },
   "outputs": [
    {
     "data": {
      "text/html": [
       "<div>\n",
       "<table border=\"1\" class=\"dataframe\">\n",
       "  <thead>\n",
       "    <tr style=\"text-align: right;\">\n",
       "      <th></th>\n",
       "      <th>artifactNumber</th>\n",
       "      <th>ObjectName</th>\n",
       "      <th>GeneralDescription</th>\n",
       "      <th>model</th>\n",
       "      <th>SerialNumber</th>\n",
       "      <th>Manufacturer</th>\n",
       "      <th>ManuCountry</th>\n",
       "      <th>ManuProvince</th>\n",
       "      <th>ManuCity</th>\n",
       "      <th>BeginDate</th>\n",
       "      <th>EndDate</th>\n",
       "      <th>date_qualifier</th>\n",
       "      <th>patent</th>\n",
       "      <th>NumberOfComponents</th>\n",
       "      <th>ArtifactFinish</th>\n",
       "      <th>ContextCanada</th>\n",
       "      <th>ContextFunction</th>\n",
       "      <th>ContextTechnical</th>\n",
       "      <th>group1</th>\n",
       "      <th>category1</th>\n",
       "      <th>subcategory1</th>\n",
       "      <th>group2</th>\n",
       "      <th>category2</th>\n",
       "      <th>subcategory2</th>\n",
       "      <th>group3</th>\n",
       "      <th>category3</th>\n",
       "      <th>subcategory3</th>\n",
       "      <th>material</th>\n",
       "      <th>Length</th>\n",
       "      <th>Width</th>\n",
       "      <th>Height</th>\n",
       "      <th>Thickness</th>\n",
       "      <th>Weight</th>\n",
       "      <th>Diameter</th>\n",
       "      <th>image</th>\n",
       "      <th>thumbnail</th>\n",
       "    </tr>\n",
       "  </thead>\n",
       "  <tbody>\n",
       "    <tr>\n",
       "      <th>1934</th>\n",
       "      <td>1966.0971.001</td>\n",
       "      <td>Photograph</td>\n",
       "      <td>photograph paper; wood frame; glass; paper &amp; c...</td>\n",
       "      <td>NaN</td>\n",
       "      <td>NaN</td>\n",
       "      <td>JARMAN, FRANK LTD.</td>\n",
       "      <td>Canada</td>\n",
       "      <td>Ontario</td>\n",
       "      <td>Ottawa</td>\n",
       "      <td>1941</td>\n",
       "      <td>NaN</td>\n",
       "      <td>NaN</td>\n",
       "      <td>NaN</td>\n",
       "      <td>1.0</td>\n",
       "      <td>b + w photograph; black frame</td>\n",
       "      <td>presented by Frank Learman to Ralph Bell, Dire...</td>\n",
       "      <td>display</td>\n",
       "      <td>NaN</td>\n",
       "      <td>Aviation</td>\n",
       "      <td>Archives</td>\n",
       "      <td>Aircraft</td>\n",
       "      <td>Aviation</td>\n",
       "      <td>Archives</td>\n",
       "      <td>Personal</td>\n",
       "      <td>NaN</td>\n",
       "      <td>NaN</td>\n",
       "      <td>NaN</td>\n",
       "      <td>paper-&gt;cardboard;wood-&gt;;glass-&gt;;metal-&gt;steel</td>\n",
       "      <td>49.8 cm</td>\n",
       "      <td>38.8 cm</td>\n",
       "      <td>NaN</td>\n",
       "      <td>NaN</td>\n",
       "      <td>1.9 cm</td>\n",
       "      <td>NaN</td>\n",
       "      <td>http://source.techno-science.ca/artifacts-arte...</td>\n",
       "      <td>http://source.techno-science.ca/artifacts-arte...</td>\n",
       "    </tr>\n",
       "    <tr>\n",
       "      <th>1941</th>\n",
       "      <td>1966.0978.001</td>\n",
       "      <td>Photograph</td>\n",
       "      <td>photograph paper; glass; plastic frame; steel ...</td>\n",
       "      <td>NaN</td>\n",
       "      <td>NaN</td>\n",
       "      <td>Royal Canadian Air Force</td>\n",
       "      <td>Canada</td>\n",
       "      <td>Ontario</td>\n",
       "      <td>Ottawa</td>\n",
       "      <td>1927</td>\n",
       "      <td>NaN</td>\n",
       "      <td>circa</td>\n",
       "      <td>NaN</td>\n",
       "      <td>1.0</td>\n",
       "      <td>b + w photograph; caption in white ink; mounte...</td>\n",
       "      <td>RCAF Station Ottawa (later Rockcliffe) was the...</td>\n",
       "      <td>taken as part of aerial photography survey for...</td>\n",
       "      <td>NaN</td>\n",
       "      <td>Aviation</td>\n",
       "      <td>Archives</td>\n",
       "      <td>Airport operations</td>\n",
       "      <td>NaN</td>\n",
       "      <td>NaN</td>\n",
       "      <td>NaN</td>\n",
       "      <td>NaN</td>\n",
       "      <td>NaN</td>\n",
       "      <td>NaN</td>\n",
       "      <td>paper-&gt;;glass-&gt;;synthetic-&gt;plastic;metal-&gt;steel</td>\n",
       "      <td>45.3 cm</td>\n",
       "      <td>40.0 cm</td>\n",
       "      <td>NaN</td>\n",
       "      <td>NaN</td>\n",
       "      <td>2.3 cm</td>\n",
       "      <td>NaN</td>\n",
       "      <td>http://source.techno-science.ca/artifacts-arte...</td>\n",
       "      <td>http://source.techno-science.ca/artifacts-arte...</td>\n",
       "    </tr>\n",
       "    <tr>\n",
       "      <th>52400</th>\n",
       "      <td>1989.0488.001</td>\n",
       "      <td>Calculator, air navigation</td>\n",
       "      <td>plastic; metal swivel at centre - possibly alu...</td>\n",
       "      <td>B-24D</td>\n",
       "      <td>NaN</td>\n",
       "      <td>Consolidated Aircraft Corp.</td>\n",
       "      <td>United States of America</td>\n",
       "      <td>California</td>\n",
       "      <td>San diego</td>\n",
       "      <td>1941</td>\n",
       "      <td>NaN</td>\n",
       "      <td>after</td>\n",
       "      <td>NaN</td>\n",
       "      <td>2.0</td>\n",
       "      <td>white with black detail; pale yellow rotating ...</td>\n",
       "      <td>NaN</td>\n",
       "      <td>used to determine gross weight &amp; fore &amp; aft ce...</td>\n",
       "      <td>especially useful on bombers because of varyin...</td>\n",
       "      <td>Aviation</td>\n",
       "      <td>Navigation instruments &amp; equipment</td>\n",
       "      <td>NaN</td>\n",
       "      <td>NaN</td>\n",
       "      <td>NaN</td>\n",
       "      <td>NaN</td>\n",
       "      <td>NaN</td>\n",
       "      <td>NaN</td>\n",
       "      <td>NaN</td>\n",
       "      <td>synthetic-&gt;plastic;metal-&gt;aluminum - possible</td>\n",
       "      <td>28.0 cm</td>\n",
       "      <td>25.2 cm</td>\n",
       "      <td>NaN</td>\n",
       "      <td>NaN</td>\n",
       "      <td>1.0 cm</td>\n",
       "      <td>NaN</td>\n",
       "      <td>http://source.techno-science.ca/artifacts-arte...</td>\n",
       "      <td>http://source.techno-science.ca/artifacts-arte...</td>\n",
       "    </tr>\n",
       "  </tbody>\n",
       "</table>\n",
       "</div>"
      ],
      "text/plain": [
       "      artifactNumber                  ObjectName  \\\n",
       "1934   1966.0971.001                  Photograph   \n",
       "1941   1966.0978.001                  Photograph   \n",
       "52400  1989.0488.001  Calculator, air navigation   \n",
       "\n",
       "                                      GeneralDescription  model SerialNumber  \\\n",
       "1934   photograph paper; wood frame; glass; paper & c...    NaN          NaN   \n",
       "1941   photograph paper; glass; plastic frame; steel ...    NaN          NaN   \n",
       "52400  plastic; metal swivel at centre - possibly alu...  B-24D          NaN   \n",
       "\n",
       "                      Manufacturer               ManuCountry ManuProvince  \\\n",
       "1934            JARMAN, FRANK LTD.                    Canada      Ontario   \n",
       "1941      Royal Canadian Air Force                    Canada      Ontario   \n",
       "52400  Consolidated Aircraft Corp.  United States of America   California   \n",
       "\n",
       "        ManuCity BeginDate EndDate date_qualifier patent  NumberOfComponents  \\\n",
       "1934      Ottawa      1941     NaN            NaN    NaN                 1.0   \n",
       "1941      Ottawa      1927     NaN          circa    NaN                 1.0   \n",
       "52400  San diego      1941     NaN          after    NaN                 2.0   \n",
       "\n",
       "                                          ArtifactFinish  \\\n",
       "1934                       b + w photograph; black frame   \n",
       "1941   b + w photograph; caption in white ink; mounte...   \n",
       "52400  white with black detail; pale yellow rotating ...   \n",
       "\n",
       "                                           ContextCanada  \\\n",
       "1934   presented by Frank Learman to Ralph Bell, Dire...   \n",
       "1941   RCAF Station Ottawa (later Rockcliffe) was the...   \n",
       "52400                                                NaN   \n",
       "\n",
       "                                         ContextFunction  \\\n",
       "1934                                             display   \n",
       "1941   taken as part of aerial photography survey for...   \n",
       "52400  used to determine gross weight & fore & aft ce...   \n",
       "\n",
       "                                        ContextTechnical    group1  \\\n",
       "1934                                                 NaN  Aviation   \n",
       "1941                                                 NaN  Aviation   \n",
       "52400  especially useful on bombers because of varyin...  Aviation   \n",
       "\n",
       "                                category1        subcategory1    group2  \\\n",
       "1934                             Archives            Aircraft  Aviation   \n",
       "1941                             Archives  Airport operations       NaN   \n",
       "52400  Navigation instruments & equipment                 NaN       NaN   \n",
       "\n",
       "      category2 subcategory2 group3 category3 subcategory3  \\\n",
       "1934   Archives     Personal    NaN       NaN          NaN   \n",
       "1941        NaN          NaN    NaN       NaN          NaN   \n",
       "52400       NaN          NaN    NaN       NaN          NaN   \n",
       "\n",
       "                                              material   Length    Width  \\\n",
       "1934      paper->cardboard;wood->;glass->;metal->steel  49.8 cm  38.8 cm   \n",
       "1941   paper->;glass->;synthetic->plastic;metal->steel  45.3 cm  40.0 cm   \n",
       "52400    synthetic->plastic;metal->aluminum - possible  28.0 cm  25.2 cm   \n",
       "\n",
       "      Height Thickness  Weight Diameter  \\\n",
       "1934     NaN       NaN  1.9 cm      NaN   \n",
       "1941     NaN       NaN  2.3 cm      NaN   \n",
       "52400    NaN       NaN  1.0 cm      NaN   \n",
       "\n",
       "                                                   image  \\\n",
       "1934   http://source.techno-science.ca/artifacts-arte...   \n",
       "1941   http://source.techno-science.ca/artifacts-arte...   \n",
       "52400  http://source.techno-science.ca/artifacts-arte...   \n",
       "\n",
       "                                               thumbnail  \n",
       "1934   http://source.techno-science.ca/artifacts-arte...  \n",
       "1941   http://source.techno-science.ca/artifacts-arte...  \n",
       "52400  http://source.techno-science.ca/artifacts-arte...  "
      ]
     },
     "execution_count": 20,
     "metadata": {},
     "output_type": "execute_result"
    }
   ],
   "source": [
    "cmtest = data['Weight'].str.extract('(.* cm)', expand=False)\n",
    "#Here are three\n",
    "data[cmtest.isnull() == False][0:3]"
   ]
  },
  {
   "cell_type": "markdown",
   "metadata": {},
   "source": [
    "Let's set those cases to NaN, and just ignore them for now:"
   ]
  },
  {
   "cell_type": "code",
   "execution_count": 45,
   "metadata": {
    "collapsed": false
   },
   "outputs": [],
   "source": [
    "data.loc[cmtest.isnull() == False,['Weight']] = None"
   ]
  },
  {
   "cell_type": "code",
   "execution_count": 48,
   "metadata": {
    "collapsed": false
   },
   "outputs": [
    {
     "data": {
      "text/plain": [
       "1058.8799535602088"
      ]
     },
     "execution_count": 48,
     "metadata": {},
     "output_type": "execute_result"
    }
   ],
   "source": [
    "data['WeightINT'] = extract_digits(data['Weight'])\n",
    "data['WeightMULT'] = extract_multipliers(data['Weight'])\n",
    "data['WeightNUM'] = data['WeightINT'] * data['WeightMULT']\n",
    "data['WeightNUM'].mean()"
   ]
  },
  {
   "cell_type": "markdown",
   "metadata": {},
   "source": [
    "The average weight is 1 ton, which may be a problem if we want to fabricate this. This doesn't seem to jive with our findings for the measurements though, so we're going to take a closer look at that next."
   ]
  }
 ],
 "metadata": {
  "kernelspec": {
   "display_name": "Python 2",
   "language": "python",
   "name": "python2"
  },
  "language_info": {
   "codemirror_mode": {
    "name": "ipython",
    "version": 2
   },
   "file_extension": ".py",
   "mimetype": "text/x-python",
   "name": "python",
   "nbconvert_exporter": "python",
   "pygments_lexer": "ipython2",
   "version": "2.7.11"
  },
  "nikola": {
   "category": "",
   "date": "2016-05-01 23:05:33 UTC-04:00",
   "description": "",
   "link": "",
   "slug": "the-average-thing",
   "tags": "Mediocre Museum",
   "title": "The Average Thing #1",
   "type": "text"
  }
 },
 "nbformat": 4,
 "nbformat_minor": 0
}
